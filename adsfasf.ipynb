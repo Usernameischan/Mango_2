{
 "cells": [
  {
   "cell_type": "code",
   "execution_count": 5,
   "metadata": {},
   "outputs": [],
   "source": [
    "import torch \n",
    "import torch.nn as nn\n",
    "preds1 = torch.randn(3, 4)\n",
    "trues1 = torch.randn(3, 4)"
   ]
  },
  {
   "cell_type": "code",
   "execution_count": 8,
   "metadata": {},
   "outputs": [
    {
     "data": {
      "text/plain": [
       "(1.5776878595352173, tensor(1.5777))"
      ]
     },
     "execution_count": 8,
     "metadata": {},
     "output_type": "execute_result"
    }
   ],
   "source": [
    "loss1_1 = nn.MSELoss()(preds1, trues1)\n",
    "loss1_2 = nn.MSELoss()(preds1, trues1)\n",
    "\n",
    "loss1_1.item(), loss1_2"
   ]
  },
  {
   "cell_type": "code",
   "execution_count": 10,
   "metadata": {},
   "outputs": [],
   "source": [
    "import numpy as np\n",
    "X = np.c_[np.array([1,2,3,4,5]), np.array([6,7,8,9,10])]\n",
    "num_features = X.shape[1]\n",
    "# num_periods = len(data)"
   ]
  },
  {
   "cell_type": "code",
   "execution_count": 11,
   "metadata": {},
   "outputs": [
    {
     "data": {
      "text/plain": [
       "2"
      ]
     },
     "execution_count": 11,
     "metadata": {},
     "output_type": "execute_result"
    }
   ],
   "source": [
    "num_features"
   ]
  },
  {
   "cell_type": "code",
   "execution_count": 23,
   "metadata": {},
   "outputs": [],
   "source": [
    "import pandas as pd\n",
    "df = pd.read_csv(r\"C:\\Users\\82104\\Documents\\reach_data222.csv\")"
   ]
  },
  {
   "cell_type": "code",
   "execution_count": 24,
   "metadata": {},
   "outputs": [
    {
     "name": "stdout",
     "output_type": "stream",
     "text": [
      "<class 'pandas.core.frame.DataFrame'>\n",
      "RangeIndex: 22065 entries, 0 to 22064\n",
      "Data columns (total 9 columns):\n",
      " #   Column                                      Non-Null Count  Dtype  \n",
      "---  ------                                      --------------  -----  \n",
      " 0   Date                                        22065 non-null  object \n",
      " 1   Store Number                                22065 non-null  int64  \n",
      " 2   Item number                                 22065 non-null  int64  \n",
      " 3   Sales amount                                22065 non-null  float64\n",
      " 4   Sale quantity                               22065 non-null  float64\n",
      " 5   Total promotion based date,store and items  22065 non-null  float64\n",
      " 6   Promotionflag                               22065 non-null  int64  \n",
      " 7   Waste quantity                              22065 non-null  float64\n",
      " 8   Inventory quantity                          22065 non-null  float64\n",
      "dtypes: float64(5), int64(3), object(1)\n",
      "memory usage: 1.5+ MB\n"
     ]
    }
   ],
   "source": [
    "df.info()"
   ]
  },
  {
   "cell_type": "code",
   "execution_count": 18,
   "metadata": {},
   "outputs": [
    {
     "ename": "ValueError",
     "evalue": "could not convert string to float: '********  '",
     "output_type": "error",
     "traceback": [
      "\u001b[1;31m---------------------------------------------------------------------------\u001b[0m",
      "\u001b[1;31mValueError\u001b[0m                                Traceback (most recent call last)",
      "\u001b[1;32mc:\\Users\\82104\\Documents\\Mango_2\\adsfasf.ipynb 셀 7\u001b[0m in \u001b[0;36m<cell line: 1>\u001b[1;34m()\u001b[0m\n\u001b[1;32m----> <a href='vscode-notebook-cell:/c%3A/Users/82104/Documents/Mango_2/adsfasf.ipynb#W6sZmlsZQ%3D%3D?line=0'>1</a>\u001b[0m df[\u001b[39m'\u001b[39;49m\u001b[39mSale quantity\u001b[39;49m\u001b[39m'\u001b[39;49m]\u001b[39m.\u001b[39;49mastype(\u001b[39m'\u001b[39;49m\u001b[39mfloat32\u001b[39;49m\u001b[39m'\u001b[39;49m)\n",
      "File \u001b[1;32mc:\\Users\\82104\\anaconda3\\lib\\site-packages\\pandas\\core\\generic.py:5912\u001b[0m, in \u001b[0;36mNDFrame.astype\u001b[1;34m(self, dtype, copy, errors)\u001b[0m\n\u001b[0;32m   5905\u001b[0m     results \u001b[39m=\u001b[39m [\n\u001b[0;32m   5906\u001b[0m         \u001b[39mself\u001b[39m\u001b[39m.\u001b[39miloc[:, i]\u001b[39m.\u001b[39mastype(dtype, copy\u001b[39m=\u001b[39mcopy)\n\u001b[0;32m   5907\u001b[0m         \u001b[39mfor\u001b[39;00m i \u001b[39min\u001b[39;00m \u001b[39mrange\u001b[39m(\u001b[39mlen\u001b[39m(\u001b[39mself\u001b[39m\u001b[39m.\u001b[39mcolumns))\n\u001b[0;32m   5908\u001b[0m     ]\n\u001b[0;32m   5910\u001b[0m \u001b[39melse\u001b[39;00m:\n\u001b[0;32m   5911\u001b[0m     \u001b[39m# else, only a single dtype is given\u001b[39;00m\n\u001b[1;32m-> 5912\u001b[0m     new_data \u001b[39m=\u001b[39m \u001b[39mself\u001b[39;49m\u001b[39m.\u001b[39;49m_mgr\u001b[39m.\u001b[39;49mastype(dtype\u001b[39m=\u001b[39;49mdtype, copy\u001b[39m=\u001b[39;49mcopy, errors\u001b[39m=\u001b[39;49merrors)\n\u001b[0;32m   5913\u001b[0m     \u001b[39mreturn\u001b[39;00m \u001b[39mself\u001b[39m\u001b[39m.\u001b[39m_constructor(new_data)\u001b[39m.\u001b[39m__finalize__(\u001b[39mself\u001b[39m, method\u001b[39m=\u001b[39m\u001b[39m\"\u001b[39m\u001b[39mastype\u001b[39m\u001b[39m\"\u001b[39m)\n\u001b[0;32m   5915\u001b[0m \u001b[39m# GH 33113: handle empty frame or series\u001b[39;00m\n",
      "File \u001b[1;32mc:\\Users\\82104\\anaconda3\\lib\\site-packages\\pandas\\core\\internals\\managers.py:419\u001b[0m, in \u001b[0;36mBaseBlockManager.astype\u001b[1;34m(self, dtype, copy, errors)\u001b[0m\n\u001b[0;32m    418\u001b[0m \u001b[39mdef\u001b[39;00m \u001b[39mastype\u001b[39m(\u001b[39mself\u001b[39m: T, dtype, copy: \u001b[39mbool\u001b[39m \u001b[39m=\u001b[39m \u001b[39mFalse\u001b[39;00m, errors: \u001b[39mstr\u001b[39m \u001b[39m=\u001b[39m \u001b[39m\"\u001b[39m\u001b[39mraise\u001b[39m\u001b[39m\"\u001b[39m) \u001b[39m-\u001b[39m\u001b[39m>\u001b[39m T:\n\u001b[1;32m--> 419\u001b[0m     \u001b[39mreturn\u001b[39;00m \u001b[39mself\u001b[39;49m\u001b[39m.\u001b[39;49mapply(\u001b[39m\"\u001b[39;49m\u001b[39mastype\u001b[39;49m\u001b[39m\"\u001b[39;49m, dtype\u001b[39m=\u001b[39;49mdtype, copy\u001b[39m=\u001b[39;49mcopy, errors\u001b[39m=\u001b[39;49merrors)\n",
      "File \u001b[1;32mc:\\Users\\82104\\anaconda3\\lib\\site-packages\\pandas\\core\\internals\\managers.py:304\u001b[0m, in \u001b[0;36mBaseBlockManager.apply\u001b[1;34m(self, f, align_keys, ignore_failures, **kwargs)\u001b[0m\n\u001b[0;32m    302\u001b[0m         applied \u001b[39m=\u001b[39m b\u001b[39m.\u001b[39mapply(f, \u001b[39m*\u001b[39m\u001b[39m*\u001b[39mkwargs)\n\u001b[0;32m    303\u001b[0m     \u001b[39melse\u001b[39;00m:\n\u001b[1;32m--> 304\u001b[0m         applied \u001b[39m=\u001b[39m \u001b[39mgetattr\u001b[39;49m(b, f)(\u001b[39m*\u001b[39;49m\u001b[39m*\u001b[39;49mkwargs)\n\u001b[0;32m    305\u001b[0m \u001b[39mexcept\u001b[39;00m (\u001b[39mTypeError\u001b[39;00m, \u001b[39mNotImplementedError\u001b[39;00m):\n\u001b[0;32m    306\u001b[0m     \u001b[39mif\u001b[39;00m \u001b[39mnot\u001b[39;00m ignore_failures:\n",
      "File \u001b[1;32mc:\\Users\\82104\\anaconda3\\lib\\site-packages\\pandas\\core\\internals\\blocks.py:580\u001b[0m, in \u001b[0;36mBlock.astype\u001b[1;34m(self, dtype, copy, errors)\u001b[0m\n\u001b[0;32m    562\u001b[0m \u001b[39m\"\"\"\u001b[39;00m\n\u001b[0;32m    563\u001b[0m \u001b[39mCoerce to the new dtype.\u001b[39;00m\n\u001b[0;32m    564\u001b[0m \n\u001b[1;32m   (...)\u001b[0m\n\u001b[0;32m    576\u001b[0m \u001b[39mBlock\u001b[39;00m\n\u001b[0;32m    577\u001b[0m \u001b[39m\"\"\"\u001b[39;00m\n\u001b[0;32m    578\u001b[0m values \u001b[39m=\u001b[39m \u001b[39mself\u001b[39m\u001b[39m.\u001b[39mvalues\n\u001b[1;32m--> 580\u001b[0m new_values \u001b[39m=\u001b[39m astype_array_safe(values, dtype, copy\u001b[39m=\u001b[39;49mcopy, errors\u001b[39m=\u001b[39;49merrors)\n\u001b[0;32m    582\u001b[0m new_values \u001b[39m=\u001b[39m maybe_coerce_values(new_values)\n\u001b[0;32m    583\u001b[0m newb \u001b[39m=\u001b[39m \u001b[39mself\u001b[39m\u001b[39m.\u001b[39mmake_block(new_values)\n",
      "File \u001b[1;32mc:\\Users\\82104\\anaconda3\\lib\\site-packages\\pandas\\core\\dtypes\\cast.py:1292\u001b[0m, in \u001b[0;36mastype_array_safe\u001b[1;34m(values, dtype, copy, errors)\u001b[0m\n\u001b[0;32m   1289\u001b[0m     dtype \u001b[39m=\u001b[39m dtype\u001b[39m.\u001b[39mnumpy_dtype\n\u001b[0;32m   1291\u001b[0m \u001b[39mtry\u001b[39;00m:\n\u001b[1;32m-> 1292\u001b[0m     new_values \u001b[39m=\u001b[39m astype_array(values, dtype, copy\u001b[39m=\u001b[39;49mcopy)\n\u001b[0;32m   1293\u001b[0m \u001b[39mexcept\u001b[39;00m (\u001b[39mValueError\u001b[39;00m, \u001b[39mTypeError\u001b[39;00m):\n\u001b[0;32m   1294\u001b[0m     \u001b[39m# e.g. astype_nansafe can fail on object-dtype of strings\u001b[39;00m\n\u001b[0;32m   1295\u001b[0m     \u001b[39m#  trying to convert to float\u001b[39;00m\n\u001b[0;32m   1296\u001b[0m     \u001b[39mif\u001b[39;00m errors \u001b[39m==\u001b[39m \u001b[39m\"\u001b[39m\u001b[39mignore\u001b[39m\u001b[39m\"\u001b[39m:\n",
      "File \u001b[1;32mc:\\Users\\82104\\anaconda3\\lib\\site-packages\\pandas\\core\\dtypes\\cast.py:1237\u001b[0m, in \u001b[0;36mastype_array\u001b[1;34m(values, dtype, copy)\u001b[0m\n\u001b[0;32m   1234\u001b[0m     values \u001b[39m=\u001b[39m values\u001b[39m.\u001b[39mastype(dtype, copy\u001b[39m=\u001b[39mcopy)\n\u001b[0;32m   1236\u001b[0m \u001b[39melse\u001b[39;00m:\n\u001b[1;32m-> 1237\u001b[0m     values \u001b[39m=\u001b[39m astype_nansafe(values, dtype, copy\u001b[39m=\u001b[39;49mcopy)\n\u001b[0;32m   1239\u001b[0m \u001b[39m# in pandas we don't store numpy str dtypes, so convert to object\u001b[39;00m\n\u001b[0;32m   1240\u001b[0m \u001b[39mif\u001b[39;00m \u001b[39misinstance\u001b[39m(dtype, np\u001b[39m.\u001b[39mdtype) \u001b[39mand\u001b[39;00m \u001b[39missubclass\u001b[39m(values\u001b[39m.\u001b[39mdtype\u001b[39m.\u001b[39mtype, \u001b[39mstr\u001b[39m):\n",
      "File \u001b[1;32mc:\\Users\\82104\\anaconda3\\lib\\site-packages\\pandas\\core\\dtypes\\cast.py:1181\u001b[0m, in \u001b[0;36mastype_nansafe\u001b[1;34m(arr, dtype, copy, skipna)\u001b[0m\n\u001b[0;32m   1177\u001b[0m     \u001b[39mraise\u001b[39;00m \u001b[39mValueError\u001b[39;00m(msg)\n\u001b[0;32m   1179\u001b[0m \u001b[39mif\u001b[39;00m copy \u001b[39mor\u001b[39;00m is_object_dtype(arr\u001b[39m.\u001b[39mdtype) \u001b[39mor\u001b[39;00m is_object_dtype(dtype):\n\u001b[0;32m   1180\u001b[0m     \u001b[39m# Explicit copy, or required since NumPy can't view from / to object.\u001b[39;00m\n\u001b[1;32m-> 1181\u001b[0m     \u001b[39mreturn\u001b[39;00m arr\u001b[39m.\u001b[39;49mastype(dtype, copy\u001b[39m=\u001b[39;49m\u001b[39mTrue\u001b[39;49;00m)\n\u001b[0;32m   1183\u001b[0m \u001b[39mreturn\u001b[39;00m arr\u001b[39m.\u001b[39mastype(dtype, copy\u001b[39m=\u001b[39mcopy)\n",
      "\u001b[1;31mValueError\u001b[0m: could not convert string to float: '********  '"
     ]
    }
   ],
   "source": [
    "df['Sale quantity'].astype('float32')"
   ]
  },
  {
   "cell_type": "code",
   "execution_count": 22,
   "metadata": {},
   "outputs": [
    {
     "data": {
      "text/html": [
       "<div>\n",
       "<style scoped>\n",
       "    .dataframe tbody tr th:only-of-type {\n",
       "        vertical-align: middle;\n",
       "    }\n",
       "\n",
       "    .dataframe tbody tr th {\n",
       "        vertical-align: top;\n",
       "    }\n",
       "\n",
       "    .dataframe thead th {\n",
       "        text-align: right;\n",
       "    }\n",
       "</style>\n",
       "<table border=\"1\" class=\"dataframe\">\n",
       "  <thead>\n",
       "    <tr style=\"text-align: right;\">\n",
       "      <th></th>\n",
       "      <th>Date</th>\n",
       "      <th>Store Number</th>\n",
       "      <th>Item number</th>\n",
       "      <th>Sales amount</th>\n",
       "      <th>Sale quantity</th>\n",
       "      <th>Total promotion based date,store and items</th>\n",
       "      <th>Promotionflag</th>\n",
       "      <th>Waste quantity</th>\n",
       "      <th>Inventory quantity</th>\n",
       "    </tr>\n",
       "  </thead>\n",
       "  <tbody>\n",
       "    <tr>\n",
       "      <th>11135</th>\n",
       "      <td>2018-01-14</td>\n",
       "      <td>0</td>\n",
       "      <td>283329</td>\n",
       "      <td>1148.51</td>\n",
       "      <td>********</td>\n",
       "      <td>2612.15</td>\n",
       "      <td>1</td>\n",
       "      <td>43.0</td>\n",
       "      <td>-999.000</td>\n",
       "    </tr>\n",
       "    <tr>\n",
       "      <th>15708</th>\n",
       "      <td>2018-05-19</td>\n",
       "      <td>0</td>\n",
       "      <td>33288729</td>\n",
       "      <td>1963.26</td>\n",
       "      <td>********</td>\n",
       "      <td>7120.45</td>\n",
       "      <td>1</td>\n",
       "      <td>24.0</td>\n",
       "      <td>832.437</td>\n",
       "    </tr>\n",
       "  </tbody>\n",
       "</table>\n",
       "</div>"
      ],
      "text/plain": [
       "             Date  Store Number  Item number  Sales amount Sale quantity  \\\n",
       "11135  2018-01-14             0       283329       1148.51    ********     \n",
       "15708  2018-05-19             0     33288729       1963.26    ********     \n",
       "\n",
       "       Total promotion based date,store and items  Promotionflag  \\\n",
       "11135                                     2612.15              1   \n",
       "15708                                     7120.45              1   \n",
       "\n",
       "       Waste quantity  Inventory quantity  \n",
       "11135            43.0            -999.000  \n",
       "15708            24.0             832.437  "
      ]
     },
     "execution_count": 22,
     "metadata": {},
     "output_type": "execute_result"
    }
   ],
   "source": [
    "df[df['Sale quantity'] == '********  ']"
   ]
  },
  {
   "cell_type": "code",
   "execution_count": 26,
   "metadata": {},
   "outputs": [
    {
     "ename": "ValueError",
     "evalue": "invalid literal for int() with base 10: '--ip=127.0.0.1'",
     "output_type": "error",
     "traceback": [
      "\u001b[1;31m---------------------------------------------------------------------------\u001b[0m",
      "\u001b[1;31mValueError\u001b[0m                                Traceback (most recent call last)",
      "\u001b[1;32mc:\\Users\\82104\\Documents\\Mango_2\\adsfasf.ipynb 셀 9\u001b[0m in \u001b[0;36m<cell line: 2>\u001b[1;34m()\u001b[0m\n\u001b[0;32m      <a href='vscode-notebook-cell:/c%3A/Users/82104/Documents/Mango_2/adsfasf.ipynb#X11sZmlsZQ%3D%3D?line=0'>1</a>\u001b[0m \u001b[39mimport\u001b[39;00m \u001b[39msys\u001b[39;00m\n\u001b[1;32m----> <a href='vscode-notebook-cell:/c%3A/Users/82104/Documents/Mango_2/adsfasf.ipynb#X11sZmlsZQ%3D%3D?line=1'>2</a>\u001b[0m \u001b[39mint\u001b[39;49m(sys\u001b[39m.\u001b[39;49margv[\u001b[39m1\u001b[39;49m])\n",
      "\u001b[1;31mValueError\u001b[0m: invalid literal for int() with base 10: '--ip=127.0.0.1'"
     ]
    }
   ],
   "source": [
    "import sys\n",
    "int(sys.argv[1])"
   ]
  },
  {
   "cell_type": "code",
   "execution_count": 20,
   "metadata": {},
   "outputs": [
    {
     "name": "stderr",
     "output_type": "stream",
     "text": [
      "C:\\Users\\82104\\AppData\\Local\\Temp\\ipykernel_13892\\1020066061.py:3: FutureWarning: The squeeze argument has been deprecated and will be removed in a future version. Append .squeeze(\"columns\") to the call to squeeze.\n",
      "\n",
      "\n",
      "  df1 = pd.read_csv(r'C:\\Users\\82104\\Documents\\daily-min-temperatures.csv', header=0, index_col=0, squeeze=True)\n"
     ]
    },
    {
     "data": {
      "text/plain": [
       "Date\n",
       "1981-01-01    20.7\n",
       "1981-01-02    17.9\n",
       "1981-01-03    18.8\n",
       "1981-01-04    14.6\n",
       "1981-01-05    15.8\n",
       "              ... \n",
       "1990-12-27    14.0\n",
       "1990-12-28    13.6\n",
       "1990-12-29    13.5\n",
       "1990-12-30    15.7\n",
       "1990-12-31    13.0\n",
       "Name: Temp, Length: 3650, dtype: float64"
      ]
     },
     "execution_count": 20,
     "metadata": {},
     "output_type": "execute_result"
    }
   ],
   "source": [
    "import pandas as pd\n",
    "\n",
    "df1 = pd.read_csv(r'C:\\Users\\82104\\Documents\\daily-min-temperatures.csv', header=0, index_col=0, parse_dates=True, squeeze=True)\n",
    "df1"
   ]
  },
  {
   "cell_type": "code",
   "execution_count": 56,
   "metadata": {},
   "outputs": [
    {
     "data": {
      "text/plain": [
       "array([ 0.57414449,  0.36121673,  0.42965779, ...,  0.02661597,\n",
       "        0.19391635, -0.01140684])"
      ]
     },
     "execution_count": 56,
     "metadata": {},
     "output_type": "execute_result"
    }
   ],
   "source": [
    "amplitude = scaler.fit_transform(df1.to_numpy().reshape(-1, 1)).reshape(-1)\n",
    "amplitude"
   ]
  },
  {
   "cell_type": "code",
   "execution_count": 43,
   "metadata": {},
   "outputs": [
    {
     "data": {
      "text/plain": [
       "time\n",
       "0.0      0.000000\n",
       "0.1      0.103394\n",
       "0.2      0.208567\n",
       "0.3      0.319452\n",
       "0.4      0.417742\n",
       "           ...   \n",
       "399.5    0.626660\n",
       "399.6    0.210560\n",
       "399.7    0.402540\n",
       "399.8    0.092350\n",
       "399.9    0.392401\n",
       "Name: amplitude, Length: 4000, dtype: float64"
      ]
     },
     "execution_count": 43,
     "metadata": {},
     "output_type": "execute_result"
    }
   ],
   "source": [
    "import numpy as np\n",
    "np.random.seed(0)\n",
    "time        = np.arange(0, 400, 0.1)    \n",
    "amplitude   = np.sin(time) + np.sin(time * 0.05) + \\\n",
    "                  np.sin(time * 0.12) * np.random.normal(-0.2, 0.2, len(time))\n",
    "df2 = pd.DataFrame({'time':time, 'amplitude':amplitude}).set_index('time').squeeze('columns')\n",
    "df2"
   ]
  },
  {
   "cell_type": "code",
   "execution_count": 53,
   "metadata": {},
   "outputs": [],
   "source": [
    "def create_inout_sequences(input_data, input_window ,output_window):\n",
    "    inout_seq = []\n",
    "    L = len(input_data)\n",
    "    block_num =  L - 101 + 1\n",
    "    # total of [N - block_len + 1] blocks\n",
    "    # where block_len = input_window + output_window\n",
    "\n",
    "    for i in range( block_num ):\n",
    "        train_seq = input_data[i : i + input_window]\n",
    "        train_label = input_data[i + output_window : i + input_window + output_window]\n",
    "        inout_seq.append((train_seq ,train_label))\n",
    "\n",
    "    return torch.FloatTensor(np.array(inout_seq))"
   ]
  },
  {
   "cell_type": "code",
   "execution_count": 44,
   "metadata": {},
   "outputs": [],
   "source": [
    "from sklearn.preprocessing import MinMaxScaler\n",
    "    \n",
    "#loading weather data from a file\n",
    "#from pandas import read_csv\n",
    "#series = read_csv('daily-min-temperatures.csv', header=0, index_col=0, parse_dates=True, squeeze=True)\n",
    "\n",
    "# looks like normalizing input values curtial for the model\n",
    "scaler = MinMaxScaler(feature_range=(-1, 1)) \n",
    "#amplitude = scaler.fit_transform(series.to_numpy().reshape(-1, 1)).reshape(-1)\n",
    "amplitude = scaler.fit_transform(amplitude.reshape(-1, 1)).reshape(-1)\n",
    "\n",
    "samples = int(len(time) * 0.8) # use a parameter to control training size\n",
    "train_data = amplitude[:samples]\n",
    "test_data = amplitude[samples:]"
   ]
  },
  {
   "cell_type": "code",
   "execution_count": 45,
   "metadata": {},
   "outputs": [
    {
     "data": {
      "text/plain": [
       "array([ 0.01401334,  0.05531073,  0.09731888, ..., -0.41866794,\n",
       "       -0.37994422, -0.4006821 ])"
      ]
     },
     "execution_count": 45,
     "metadata": {},
     "output_type": "execute_result"
    }
   ],
   "source": [
    "(train_data)"
   ]
  },
  {
   "cell_type": "code",
   "execution_count": 46,
   "metadata": {},
   "outputs": [
    {
     "data": {
      "text/plain": [
       "array([-0.3921998 , -0.27004541, -0.32719065, -0.35532975, -0.22541752,\n",
       "       -0.12437945, -0.1205621 ,  0.00252287, -0.0230299 , -0.04371589,\n",
       "        0.00723052, -0.02172744,  0.15587324,  0.03271044,  0.08204022,\n",
       "        0.14714623,  0.17254147,  0.08973356,  0.13465694,  0.21308927,\n",
       "        0.26916429,  0.21509157,  0.18283897,  0.06935397,  0.11603744,\n",
       "        0.17307281,  0.18850242,  0.14990513,  0.06954567,  0.1115304 ,\n",
       "        0.19456801, -0.08464368, -0.13534266, -0.01345999, -0.14561385,\n",
       "       -0.19614822, -0.21793502, -0.33594982, -0.40555989, -0.42768054,\n",
       "       -0.31789928, -0.55441157, -0.44634937, -0.5588159 , -0.57446613,\n",
       "       -0.51964527, -0.5364931 , -0.5957427 , -0.78281641, -0.53303424,\n",
       "       -0.56279666, -0.66274433, -0.67114748, -0.53008677, -0.59042864,\n",
       "       -0.65680835, -0.66392332, -0.63910806, -0.51074971, -0.49763427,\n",
       "       -0.68036996, -0.48680222, -0.42336818, -0.5776771 , -0.42295007,\n",
       "       -0.52740325, -0.33810216, -0.47634818, -0.32643259, -0.28286012,\n",
       "       -0.25340131, -0.04464242, -0.08301737, -0.12473693, -0.13651793,\n",
       "       -0.05270634, -0.09019834,  0.09209268,  0.19288484,  0.13336076,\n",
       "        0.08796892,  0.05671468,  0.04212667,  0.21303692,  0.02562762,\n",
       "        0.18702365, -0.03685586,  0.01388538, -0.11618068,  0.00856307,\n",
       "       -0.1281964 ,  0.0716967 , -0.05734506, -0.08153031, -0.13724448,\n",
       "       -0.28088136, -0.22635226, -0.13556531, -0.31615392, -0.4350112 ,\n",
       "       -0.53871671, -0.49275793, -0.61052129, -0.454616  , -0.49496064,\n",
       "       -0.65199951, -0.57413512, -0.69070857, -0.6781798 , -0.67104153,\n",
       "       -0.7495238 , -0.70369697, -0.86563816, -0.74586218, -0.76097297,\n",
       "       -0.90153829, -0.88053474, -0.87548498, -0.70786995, -0.71252881,\n",
       "       -0.6836908 , -0.76841237, -0.57913608, -0.56172485, -0.64529175,\n",
       "       -0.48625843, -0.54306376, -0.60285655, -0.5548104 , -0.36778554,\n",
       "       -0.3805579 , -0.281066  , -0.30115828, -0.24158662, -0.09496916,\n",
       "       -0.1032049 , -0.17610773, -0.09813686, -0.06263278, -0.02189302,\n",
       "       -0.03733783, -0.04830444, -0.00540646, -0.01808061,  0.1040291 ,\n",
       "        0.0848385 ,  0.01146968,  0.04013104,  0.00350501,  0.05862326,\n",
       "        0.03611845, -0.00558038, -0.01381393, -0.04907233, -0.0546712 ,\n",
       "       -0.11448095, -0.16432046, -0.23038974, -0.30797687, -0.28229484,\n",
       "       -0.34983747, -0.35785735, -0.35676899, -0.43353089, -0.49422824,\n",
       "       -0.54760358, -0.60365383, -0.54410425, -0.68056084, -0.68254496,\n",
       "       -0.75245592, -0.71471946, -0.73671952, -0.75621917, -0.7608253 ,\n",
       "       -0.79158897, -0.79990482, -0.73382085, -0.78575179, -0.75153269,\n",
       "       -0.78174079, -0.71593982, -0.70263055, -0.708515  , -0.70953333,\n",
       "       -0.6609299 , -0.63198957, -0.59679432, -0.58041123, -0.55059449,\n",
       "       -0.48970301, -0.45283139, -0.41284545, -0.36244642, -0.3457036 ,\n",
       "       -0.28455456, -0.25896559, -0.21835898, -0.18401171, -0.14510688,\n",
       "       -0.11968644, -0.08538595, -0.0582391 , -0.03367936, -0.01421127,\n",
       "        0.001274  ,  0.01507898,  0.02762372,  0.02496626,  0.03451353,\n",
       "        0.03032331,  0.01874393,  0.00148815, -0.00342398, -0.03875173,\n",
       "       -0.03867302, -0.07780344, -0.09756151, -0.14945115, -0.16383657,\n",
       "       -0.16572329, -0.25008249, -0.26814089, -0.29793479, -0.37132424,\n",
       "       -0.37992692, -0.43858777, -0.44694943, -0.48197426, -0.58103181,\n",
       "       -0.55161544, -0.58807676, -0.58678507, -0.70468787, -0.69443594,\n",
       "       -0.71038923, -0.74990272, -0.69168129, -0.72526892, -0.74511687,\n",
       "       -0.69699785, -0.79276342, -0.73990496, -0.71831486, -0.72471583,\n",
       "       -0.66915458, -0.67824832, -0.78855215, -0.6485307 , -0.6626143 ,\n",
       "       -0.545086  , -0.492371  , -0.50133027, -0.38900502, -0.3042578 ,\n",
       "       -0.40296103, -0.35858721, -0.32771455, -0.24903245, -0.30625512,\n",
       "       -0.16612704, -0.10599876,  0.05541623, -0.06546964, -0.08279644,\n",
       "       -0.01258669, -0.05030553, -0.09593296,  0.05669811, -0.01022174,\n",
       "        0.15885867,  0.012937  ,  0.06961448,  0.08311709,  0.07251352,\n",
       "        0.06105281,  0.05559479,  0.00599206,  0.00726814,  0.04412192,\n",
       "       -0.08304001, -0.04813553, -0.18772576, -0.15258028, -0.19958592,\n",
       "       -0.09303037, -0.1834657 , -0.36976839, -0.29574581, -0.34789254,\n",
       "       -0.40317499, -0.55378583, -0.52074946, -0.62026616, -0.54060834,\n",
       "       -0.60355692, -0.5282614 , -0.72219139, -0.66484208, -0.67628224,\n",
       "       -0.71023967, -0.80051922, -0.68283609, -0.82297417, -0.63249399,\n",
       "       -0.720462  , -0.8289672 , -0.62560624, -0.66265455, -0.68882212,\n",
       "       -0.58601006, -0.45297356, -0.45569399, -0.54837973, -0.53691437,\n",
       "       -0.49135326, -0.48089191, -0.35727322, -0.32747405, -0.15114005,\n",
       "       -0.25486049, -0.23821726, -0.10478132, -0.16414626,  0.06676661,\n",
       "       -0.10289161, -0.03559853, -0.15085108, -0.0695956 , -0.05454578,\n",
       "        0.01956687,  0.04871441,  0.20645787,  0.14674925, -0.02201697,\n",
       "        0.24015981,  0.15575205,  0.22511732, -0.01582265,  0.12953902,\n",
       "       -0.05779378,  0.07577079,  0.05732128, -0.11282354, -0.11677792,\n",
       "        0.13961093, -0.14648339, -0.19495645, -0.20205448, -0.17254705,\n",
       "       -0.2656433 , -0.27140193, -0.35781834, -0.3635172 , -0.36776607,\n",
       "       -0.46397949, -0.5465605 , -0.53792793, -0.50174658, -0.59552705,\n",
       "       -0.67378066, -0.73247546, -0.71830676, -0.67942251, -0.57152012,\n",
       "       -0.54941839, -0.63630805, -0.54345923, -0.58203307, -0.61554838,\n",
       "       -0.57732999, -0.5697288 , -0.47548158, -0.56166466, -0.58713936,\n",
       "       -0.4463114 , -0.5020307 , -0.60067916, -0.37138052, -0.38353573,\n",
       "       -0.31237807, -0.32415086, -0.10256082, -0.10719582, -0.14737581,\n",
       "       -0.15733408, -0.07038613,  0.08087346,  0.05963099,  0.08829187,\n",
       "        0.0418406 ,  0.13874181,  0.1552181 ,  0.0657899 ,  0.06617037,\n",
       "        0.1822434 ,  0.13965095,  0.27755091,  0.15553819,  0.09432143,\n",
       "        0.12371112,  0.13516571,  0.14585495,  0.13977497,  0.09115152,\n",
       "        0.13728551, -0.05756666, -0.03420665, -0.03379209, -0.04366648,\n",
       "       -0.10821798, -0.18846611, -0.23695937, -0.18577005, -0.22245854,\n",
       "       -0.40007149, -0.39442871, -0.41145889, -0.40959372, -0.48742894,\n",
       "       -0.4268158 , -0.56930824, -0.53120128, -0.58528439, -0.59777263,\n",
       "       -0.58345476, -0.593284  , -0.65024396, -0.64595732, -0.55050042,\n",
       "       -0.55017772, -0.56700631, -0.55716804, -0.5351279 , -0.55707701,\n",
       "       -0.51292546, -0.53285507, -0.50911151, -0.43801335, -0.44614046,\n",
       "       -0.3689581 , -0.32060949, -0.29286599, -0.27130809, -0.17850218,\n",
       "       -0.16634772, -0.13546555, -0.09671305, -0.04587344, -0.02237101,\n",
       "        0.01618483,  0.06150859,  0.05661193,  0.10676469,  0.140165  ,\n",
       "        0.16363371,  0.16694323,  0.18944894,  0.18314537,  0.2098045 ,\n",
       "        0.21596127,  0.20846811,  0.20243237,  0.19812549,  0.18093422,\n",
       "        0.16389013,  0.14328933,  0.1189566 ,  0.08987178,  0.06692979,\n",
       "        0.02968788, -0.00723931, -0.04220848, -0.07791861, -0.11165143,\n",
       "       -0.14513136, -0.20034176, -0.23485294, -0.28431542, -0.35004227,\n",
       "       -0.3393145 , -0.35310538, -0.40009739, -0.44712443, -0.46421158,\n",
       "       -0.51247589, -0.51401751, -0.53823368, -0.56197379, -0.54482342,\n",
       "       -0.49954464, -0.52246391, -0.56338446, -0.53299254, -0.52338908,\n",
       "       -0.55160777, -0.49792648, -0.53882949, -0.49668234, -0.4373781 ,\n",
       "       -0.42835473, -0.32386302, -0.32530527, -0.32397895, -0.28905953,\n",
       "       -0.22567058, -0.23172406, -0.1282686 , -0.16418561, -0.04462833,\n",
       "       -0.03649572,  0.02624321,  0.00304128,  0.09205562,  0.22105027,\n",
       "        0.12452389,  0.18731815,  0.26747148,  0.25474638,  0.25723747,\n",
       "        0.2010363 ,  0.19741862,  0.26977756,  0.24577482,  0.26681509,\n",
       "        0.27302217,  0.21672664,  0.2661683 ,  0.32423002,  0.1464185 ,\n",
       "        0.15241717,  0.14937058,  0.18838791,  0.02237914, -0.00501538,\n",
       "       -0.10637408, -0.04117305, -0.01130814, -0.02567788, -0.10739107,\n",
       "       -0.20537226, -0.16103337, -0.22932018, -0.40101901, -0.39085365,\n",
       "       -0.24403884, -0.35067753, -0.48957367, -0.36671459, -0.37008643,\n",
       "       -0.48788147, -0.42623852, -0.73835342, -0.41808501, -0.40482027,\n",
       "       -0.56339894, -0.45757428, -0.49099942, -0.45976606, -0.46484272,\n",
       "       -0.50905157, -0.24951983, -0.38185934, -0.32032595, -0.36914445,\n",
       "       -0.33568292, -0.1899622 , -0.14199446, -0.07487879, -0.01629477,\n",
       "       -0.07423783, -0.05058693,  0.08162443,  0.0157872 ,  0.17109405,\n",
       "        0.17039665,  0.26664477,  0.26254045,  0.15888398,  0.201316  ,\n",
       "        0.35118257,  0.46498107,  0.22877709,  0.34886223,  0.37954134,\n",
       "        0.24278757,  0.40385425,  0.35691266,  0.19204111,  0.47837169,\n",
       "        0.26732215,  0.21703423,  0.33259961,  0.32016925,  0.3081208 ,\n",
       "        0.1894665 ,  0.18806482,  0.09718148,  0.01587911,  0.17033159,\n",
       "        0.038733  , -0.00536988, -0.18802355, -0.08052263, -0.17025358,\n",
       "       -0.15299251, -0.19093942, -0.24152747, -0.16239829, -0.22933196,\n",
       "       -0.20103187, -0.41611721, -0.38173083, -0.34933598, -0.38959386,\n",
       "       -0.37188196, -0.46139962, -0.42503017, -0.49219813, -0.42597852,\n",
       "       -0.29241938, -0.34618998, -0.19586019, -0.33251706, -0.25213297,\n",
       "       -0.32290623, -0.00509296, -0.17825126, -0.06664836, -0.05898148,\n",
       "       -0.09216932, -0.10524394,  0.04512906,  0.03582843,  0.10698004,\n",
       "        0.20622927,  0.2060615 ,  0.26655701,  0.28832498,  0.21164865,\n",
       "        0.4435638 ,  0.45865086,  0.32863734,  0.46486292,  0.40769146,\n",
       "        0.42014617,  0.48351188,  0.60832763,  0.56880414,  0.54130229,\n",
       "        0.42726685,  0.65624782,  0.5400144 ,  0.32649215,  0.4796811 ,\n",
       "        0.40522007,  0.43612416,  0.40897982,  0.30216638,  0.43119696,\n",
       "        0.30324603,  0.31045425,  0.29679889,  0.14301965,  0.09665602,\n",
       "        0.16988191,  0.14646545, -0.0367649 ,  0.10500004, -0.04526084,\n",
       "       -0.03015575, -0.06667446, -0.16944924, -0.18785999, -0.26628883,\n",
       "       -0.2390686 , -0.26775212, -0.20859598, -0.15659105, -0.2213717 ,\n",
       "       -0.2046759 , -0.18152006, -0.17718913, -0.20771996, -0.2331586 ,\n",
       "       -0.17171219, -0.12892452, -0.13634895, -0.06104572, -0.05152365,\n",
       "        0.01539919,  0.00461411,  0.04061718,  0.16742093,  0.15366985,\n",
       "        0.21153142,  0.2055337 ,  0.26906492,  0.33994743,  0.4033236 ,\n",
       "        0.38306954,  0.4194835 ,  0.47424428,  0.47342374,  0.53786187,\n",
       "        0.56470588,  0.60478922,  0.63806376,  0.63871956,  0.65456435,\n",
       "        0.65226832,  0.65152794,  0.63007276,  0.64437842,  0.65257357,\n",
       "        0.6208502 ,  0.62834983,  0.60450635,  0.57872498,  0.55996443,\n",
       "        0.54161844,  0.51242814,  0.4664362 ,  0.44156039,  0.40962875,\n",
       "        0.3702118 ,  0.33370602,  0.29611292,  0.25905782,  0.21796006,\n",
       "        0.1874323 ,  0.15554691,  0.11569767,  0.08018727,  0.04727391,\n",
       "        0.03237952,  0.00247515, -0.02171586, -0.04088369, -0.04177195,\n",
       "       -0.07960731, -0.05559713, -0.07743791, -0.06552694, -0.05092662,\n",
       "       -0.04004975, -0.02722049, -0.01230943,  0.0201353 ,  0.00935189,\n",
       "        0.06649319,  0.09537179,  0.10279255,  0.15227714,  0.22314065,\n",
       "        0.25065718,  0.27170294,  0.32382214,  0.3276769 ,  0.41434406,\n",
       "        0.46300852,  0.50633092,  0.50109983,  0.53681547,  0.64725001,\n",
       "        0.60268693,  0.6258116 ,  0.74874416,  0.73888395,  0.68087937,\n",
       "        0.7160479 ,  0.77073762,  0.76335644,  0.70375325,  0.77508181,\n",
       "        0.84999307,  0.73269301,  0.82486005,  0.72849165,  0.72831107,\n",
       "        0.69802905,  0.64389222,  0.76487328,  0.66856081,  0.53635464,\n",
       "        0.55187774,  0.5581118 ,  0.58513674,  0.48832766,  0.50541612,\n",
       "        0.49826191,  0.34754882,  0.33808713,  0.34879891,  0.24637805,\n",
       "        0.26431293,  0.09811479,  0.17479513,  0.0508996 ,  0.17074547])"
      ]
     },
     "execution_count": 46,
     "metadata": {},
     "output_type": "execute_result"
    }
   ],
   "source": [
    "(test_data)"
   ]
  },
  {
   "cell_type": "code",
   "execution_count": 48,
   "metadata": {},
   "outputs": [],
   "source": [
    "import torch\n",
    "import torch.nn as nn\n",
    "train_tensor = torch.FloatTensor(train_data).view(-1)"
   ]
  },
  {
   "cell_type": "code",
   "execution_count": 92,
   "metadata": {},
   "outputs": [
    {
     "data": {
      "text/plain": [
       "tensor([ 0.0140,  0.0553,  0.0973,  ..., -0.4187, -0.3799, -0.4007])"
      ]
     },
     "execution_count": 92,
     "metadata": {},
     "output_type": "execute_result"
    }
   ],
   "source": [
    "train_tensor"
   ]
  },
  {
   "cell_type": "code",
   "execution_count": 54,
   "metadata": {},
   "outputs": [],
   "source": [
    "train_sequence = create_inout_sequences(train_data, 100 ,1)"
   ]
  },
  {
   "cell_type": "code",
   "execution_count": 55,
   "metadata": {},
   "outputs": [
    {
     "data": {
      "text/plain": [
       "tensor([[[ 0.0140,  0.0553,  0.0973,  ...,  0.1493, -0.0088, -0.0233],\n",
       "         [ 0.0553,  0.0973,  0.1416,  ..., -0.0088, -0.0233,  0.0540]],\n",
       "\n",
       "        [[ 0.0553,  0.0973,  0.1416,  ..., -0.0088, -0.0233,  0.0540],\n",
       "         [ 0.0973,  0.1416,  0.1809,  ..., -0.0233,  0.0540, -0.2180]],\n",
       "\n",
       "        [[ 0.0973,  0.1416,  0.1809,  ..., -0.0233,  0.0540, -0.2180],\n",
       "         [ 0.1416,  0.1809,  0.2060,  ...,  0.0540, -0.2180, -0.2411]],\n",
       "\n",
       "        ...,\n",
       "\n",
       "        [[ 0.5458,  0.5033,  0.5309,  ..., -0.5391, -0.4198, -0.4650],\n",
       "         [ 0.5033,  0.5309,  0.4319,  ..., -0.4198, -0.4650, -0.4187]],\n",
       "\n",
       "        [[ 0.5033,  0.5309,  0.4319,  ..., -0.4198, -0.4650, -0.4187],\n",
       "         [ 0.5309,  0.4319,  0.4594,  ..., -0.4650, -0.4187, -0.3799]],\n",
       "\n",
       "        [[ 0.5309,  0.4319,  0.4594,  ..., -0.4650, -0.4187, -0.3799],\n",
       "         [ 0.4319,  0.4594,  0.4238,  ..., -0.4187, -0.3799, -0.4007]]])"
      ]
     },
     "execution_count": 55,
     "metadata": {},
     "output_type": "execute_result"
    }
   ],
   "source": [
    "train_sequence"
   ]
  },
  {
   "cell_type": "code",
   "execution_count": 57,
   "metadata": {},
   "outputs": [
    {
     "data": {
      "text/plain": [
       "<torch.utils.data.dataloader.DataLoader at 0x256afafd670>"
      ]
     },
     "execution_count": 57,
     "metadata": {},
     "output_type": "execute_result"
    }
   ],
   "source": [
    "from torch.utils.data import DataLoader\n",
    "\n",
    "DataLoader(train_sequence)"
   ]
  },
  {
   "cell_type": "code",
   "execution_count": 58,
   "metadata": {},
   "outputs": [
    {
     "data": {
      "text/plain": [
       "<torch.utils.data.dataloader._SingleProcessDataLoaderIter at 0x256afafd130>"
      ]
     },
     "execution_count": 58,
     "metadata": {},
     "output_type": "execute_result"
    }
   ],
   "source": [
    "iter(DataLoader(train_sequence))"
   ]
  },
  {
   "cell_type": "code",
   "execution_count": 190,
   "metadata": {},
   "outputs": [
    {
     "data": {
      "text/plain": [
       "tensor([[[ 0.0763,  0.0629,  0.0375,  ...,  0.7343,  0.7291,  0.7929],\n",
       "         [ 0.0629,  0.0375,  0.0281,  ...,  0.7291,  0.7929,  0.7805]],\n",
       "\n",
       "        [[ 0.0629,  0.0375,  0.0281,  ...,  0.7291,  0.7929,  0.7805],\n",
       "         [ 0.0375,  0.0281,  0.0276,  ...,  0.7929,  0.7805,  0.6979]],\n",
       "\n",
       "        [[ 0.0375,  0.0281,  0.0276,  ...,  0.7929,  0.7805,  0.6979],\n",
       "         [ 0.0281,  0.0276,  0.0045,  ...,  0.7805,  0.6979,  0.5889]],\n",
       "\n",
       "        ...,\n",
       "\n",
       "        [[ 0.5458,  0.5033,  0.5309,  ..., -0.5391, -0.4198, -0.4650],\n",
       "         [ 0.5033,  0.5309,  0.4319,  ..., -0.4198, -0.4650, -0.4187]],\n",
       "\n",
       "        [[ 0.5033,  0.5309,  0.4319,  ..., -0.4198, -0.4650, -0.4187],\n",
       "         [ 0.5309,  0.4319,  0.4594,  ..., -0.4650, -0.4187, -0.3799]],\n",
       "\n",
       "        [[ 0.5309,  0.4319,  0.4594,  ..., -0.4650, -0.4187, -0.3799],\n",
       "         [ 0.4319,  0.4594,  0.4238,  ..., -0.4187, -0.3799, -0.4007]]])"
      ]
     },
     "execution_count": 190,
     "metadata": {},
     "output_type": "execute_result"
    }
   ],
   "source": [
    "train_sequence[1550:]"
   ]
  },
  {
   "cell_type": "code",
   "execution_count": 85,
   "metadata": {},
   "outputs": [
    {
     "data": {
      "text/plain": [
       "torch.Size([3100, 2, 100])"
      ]
     },
     "execution_count": 85,
     "metadata": {},
     "output_type": "execute_result"
    }
   ],
   "source": [
    "train_sequence.size()"
   ]
  },
  {
   "cell_type": "code",
   "execution_count": 90,
   "metadata": {},
   "outputs": [
    {
     "data": {
      "text/plain": [
       "torch.Size([1550, 2, 100])"
      ]
     },
     "execution_count": 90,
     "metadata": {},
     "output_type": "execute_result"
    }
   ],
   "source": [
    "train_sequence[1550:].size()"
   ]
  },
  {
   "cell_type": "code",
   "execution_count": 67,
   "metadata": {},
   "outputs": [
    {
     "data": {
      "text/plain": [
       "torch.Size([3100, 2, 100])"
      ]
     },
     "execution_count": 67,
     "metadata": {},
     "output_type": "execute_result"
    }
   ],
   "source": [
    "(train_sequence//2).size()"
   ]
  },
  {
   "cell_type": "code",
   "execution_count": 194,
   "metadata": {},
   "outputs": [
    {
     "data": {
      "text/plain": [
       "(tensor([[[ 0.0140,  0.0553,  0.0973,  ...,  0.1493, -0.0088, -0.0233],\n",
       "          [ 0.0553,  0.0973,  0.1416,  ..., -0.0088, -0.0233,  0.0540]],\n",
       " \n",
       "         [[ 0.0553,  0.0973,  0.1416,  ..., -0.0088, -0.0233,  0.0540],\n",
       "          [ 0.0973,  0.1416,  0.1809,  ..., -0.0233,  0.0540, -0.2180]],\n",
       " \n",
       "         [[ 0.0973,  0.1416,  0.1809,  ..., -0.0233,  0.0540, -0.2180],\n",
       "          [ 0.1416,  0.1809,  0.2060,  ...,  0.0540, -0.2180, -0.2411]],\n",
       " \n",
       "         ...,\n",
       " \n",
       "         [[ 0.1593,  0.1385,  0.0803,  ...,  0.6942,  0.8069,  0.6092],\n",
       "          [ 0.1385,  0.0803,  0.0763,  ...,  0.8069,  0.6092,  0.7343]],\n",
       " \n",
       "         [[ 0.1385,  0.0803,  0.0763,  ...,  0.8069,  0.6092,  0.7343],\n",
       "          [ 0.0803,  0.0763,  0.0629,  ...,  0.6092,  0.7343,  0.7291]],\n",
       " \n",
       "         [[ 0.0803,  0.0763,  0.0629,  ...,  0.6092,  0.7343,  0.7291],\n",
       "          [ 0.0763,  0.0629,  0.0375,  ...,  0.7343,  0.7291,  0.7929]]]),\n",
       " tensor([[[ 0.0763,  0.0629,  0.0375,  ...,  0.7343,  0.7291,  0.7929],\n",
       "          [ 0.0629,  0.0375,  0.0281,  ...,  0.7291,  0.7929,  0.7805]],\n",
       " \n",
       "         [[ 0.0629,  0.0375,  0.0281,  ...,  0.7291,  0.7929,  0.7805],\n",
       "          [ 0.0375,  0.0281,  0.0276,  ...,  0.7929,  0.7805,  0.6979]],\n",
       " \n",
       "         [[ 0.0375,  0.0281,  0.0276,  ...,  0.7929,  0.7805,  0.6979],\n",
       "          [ 0.0281,  0.0276,  0.0045,  ...,  0.7805,  0.6979,  0.5889]],\n",
       " \n",
       "         ...,\n",
       " \n",
       "         [[ 0.5458,  0.5033,  0.5309,  ..., -0.5391, -0.4198, -0.4650],\n",
       "          [ 0.5033,  0.5309,  0.4319,  ..., -0.4198, -0.4650, -0.4187]],\n",
       " \n",
       "         [[ 0.5033,  0.5309,  0.4319,  ..., -0.4198, -0.4650, -0.4187],\n",
       "          [ 0.5309,  0.4319,  0.4594,  ..., -0.4650, -0.4187, -0.3799]],\n",
       " \n",
       "         [[ 0.5309,  0.4319,  0.4594,  ..., -0.4650, -0.4187, -0.3799],\n",
       "          [ 0.4319,  0.4594,  0.4238,  ..., -0.4187, -0.3799, -0.4007]]]))"
      ]
     },
     "execution_count": 194,
     "metadata": {},
     "output_type": "execute_result"
    }
   ],
   "source": [
    "train_sequence.chunk(2, dim=0)"
   ]
  },
  {
   "cell_type": "code",
   "execution_count": 198,
   "metadata": {},
   "outputs": [
    {
     "name": "stdout",
     "output_type": "stream",
     "text": [
      "tensor([[[ 0.0140,  0.0553,  0.0973,  ...,  0.1493, -0.0088, -0.0233],\n",
      "         [ 0.0553,  0.0973,  0.1416,  ..., -0.0088, -0.0233,  0.0540]],\n",
      "\n",
      "        [[ 0.0553,  0.0973,  0.1416,  ..., -0.0088, -0.0233,  0.0540],\n",
      "         [ 0.0973,  0.1416,  0.1809,  ..., -0.0233,  0.0540, -0.2180]],\n",
      "\n",
      "        [[ 0.0973,  0.1416,  0.1809,  ..., -0.0233,  0.0540, -0.2180],\n",
      "         [ 0.1416,  0.1809,  0.2060,  ...,  0.0540, -0.2180, -0.2411]],\n",
      "\n",
      "        ...,\n",
      "\n",
      "        [[ 0.1593,  0.1385,  0.0803,  ...,  0.6942,  0.8069,  0.6092],\n",
      "         [ 0.1385,  0.0803,  0.0763,  ...,  0.8069,  0.6092,  0.7343]],\n",
      "\n",
      "        [[ 0.1385,  0.0803,  0.0763,  ...,  0.8069,  0.6092,  0.7343],\n",
      "         [ 0.0803,  0.0763,  0.0629,  ...,  0.6092,  0.7343,  0.7291]],\n",
      "\n",
      "        [[ 0.0803,  0.0763,  0.0629,  ...,  0.6092,  0.7343,  0.7291],\n",
      "         [ 0.0763,  0.0629,  0.0375,  ...,  0.7343,  0.7291,  0.7929]]])\n",
      "tensor([[[ 0.0763,  0.0629,  0.0375,  ...,  0.7343,  0.7291,  0.7929],\n",
      "         [ 0.0629,  0.0375,  0.0281,  ...,  0.7291,  0.7929,  0.7805]],\n",
      "\n",
      "        [[ 0.0629,  0.0375,  0.0281,  ...,  0.7291,  0.7929,  0.7805],\n",
      "         [ 0.0375,  0.0281,  0.0276,  ...,  0.7929,  0.7805,  0.6979]],\n",
      "\n",
      "        [[ 0.0375,  0.0281,  0.0276,  ...,  0.7929,  0.7805,  0.6979],\n",
      "         [ 0.0281,  0.0276,  0.0045,  ...,  0.7805,  0.6979,  0.5889]],\n",
      "\n",
      "        ...,\n",
      "\n",
      "        [[ 0.5458,  0.5033,  0.5309,  ..., -0.5391, -0.4198, -0.4650],\n",
      "         [ 0.5033,  0.5309,  0.4319,  ..., -0.4198, -0.4650, -0.4187]],\n",
      "\n",
      "        [[ 0.5033,  0.5309,  0.4319,  ..., -0.4198, -0.4650, -0.4187],\n",
      "         [ 0.5309,  0.4319,  0.4594,  ..., -0.4650, -0.4187, -0.3799]],\n",
      "\n",
      "        [[ 0.5309,  0.4319,  0.4594,  ..., -0.4650, -0.4187, -0.3799],\n",
      "         [ 0.4319,  0.4594,  0.4238,  ..., -0.4187, -0.3799, -0.4007]]])\n"
     ]
    }
   ],
   "source": [
    "a=[]\n",
    "for dataset in train_sequence.chunk(2, dim=0):\n",
    "    print(dataset)\n",
    "    a.append(DataLoader(dataset, #batch_size = 100, \n",
    "                                    #shuffle = True\n",
    "                                    ))\n"
   ]
  },
  {
   "cell_type": "code",
   "execution_count": 222,
   "metadata": {},
   "outputs": [
    {
     "data": {
      "text/plain": [
       "1550"
      ]
     },
     "execution_count": 222,
     "metadata": {},
     "output_type": "execute_result"
    }
   ],
   "source": [
    "len(a[0])"
   ]
  },
  {
   "cell_type": "code",
   "execution_count": 111,
   "metadata": {},
   "outputs": [
    {
     "data": {
      "text/plain": [
       "<torch.utils.data.dataloader.DataLoader at 0x256a76ddeb0>"
      ]
     },
     "execution_count": 111,
     "metadata": {},
     "output_type": "execute_result"
    }
   ],
   "source": [
    "(a[0])"
   ]
  },
  {
   "cell_type": "code",
   "execution_count": 218,
   "metadata": {},
   "outputs": [],
   "source": [
    "for batch in a[0]:  # loop thru data\n",
    "    batch"
   ]
  },
  {
   "cell_type": "code",
   "execution_count": 219,
   "metadata": {},
   "outputs": [
    {
     "data": {
      "text/plain": [
       "tensor([[[ 0.0803,  0.0763,  0.0629,  0.0375,  0.0281,  0.0276,  0.0045,\n",
       "           0.0295,  0.0298,  0.0501,  0.0531,  0.0546,  0.0967,  0.1232,\n",
       "           0.1324,  0.1696,  0.1995,  0.2338,  0.2687,  0.3036,  0.3452,\n",
       "           0.3832,  0.4214,  0.4584,  0.4957,  0.5418,  0.5754,  0.6069,\n",
       "           0.6468,  0.6626,  0.6949,  0.7276,  0.7523,  0.7672,  0.7466,\n",
       "           0.7747,  0.8002,  0.7915,  0.8348,  0.8057,  0.7912,  0.7482,\n",
       "           0.7513,  0.7365,  0.7317,  0.7005,  0.6750,  0.5970,  0.6191,\n",
       "           0.5121,  0.4948,  0.4812,  0.4246,  0.3584,  0.3220,  0.2579,\n",
       "           0.2828,  0.2681,  0.1859,  0.1398,  0.0680,  0.1221,  0.1427,\n",
       "          -0.0325, -0.0274, -0.0315, -0.0420, -0.0207,  0.0309,  0.0033,\n",
       "          -0.0158, -0.0661, -0.0757, -0.0490,  0.0766,  0.0210,  0.0254,\n",
       "           0.0642,  0.1432,  0.0670,  0.2396,  0.2104,  0.2275,  0.3003,\n",
       "           0.3268,  0.3346,  0.3780,  0.3810,  0.5043,  0.4719,  0.4807,\n",
       "           0.5782,  0.6772,  0.6219,  0.6117,  0.6942,  0.8069,  0.6092,\n",
       "           0.7343,  0.7291],\n",
       "         [ 0.0763,  0.0629,  0.0375,  0.0281,  0.0276,  0.0045,  0.0295,\n",
       "           0.0298,  0.0501,  0.0531,  0.0546,  0.0967,  0.1232,  0.1324,\n",
       "           0.1696,  0.1995,  0.2338,  0.2687,  0.3036,  0.3452,  0.3832,\n",
       "           0.4214,  0.4584,  0.4957,  0.5418,  0.5754,  0.6069,  0.6468,\n",
       "           0.6626,  0.6949,  0.7276,  0.7523,  0.7672,  0.7466,  0.7747,\n",
       "           0.8002,  0.7915,  0.8348,  0.8057,  0.7912,  0.7482,  0.7513,\n",
       "           0.7365,  0.7317,  0.7005,  0.6750,  0.5970,  0.6191,  0.5121,\n",
       "           0.4948,  0.4812,  0.4246,  0.3584,  0.3220,  0.2579,  0.2828,\n",
       "           0.2681,  0.1859,  0.1398,  0.0680,  0.1221,  0.1427, -0.0325,\n",
       "          -0.0274, -0.0315, -0.0420, -0.0207,  0.0309,  0.0033, -0.0158,\n",
       "          -0.0661, -0.0757, -0.0490,  0.0766,  0.0210,  0.0254,  0.0642,\n",
       "           0.1432,  0.0670,  0.2396,  0.2104,  0.2275,  0.3003,  0.3268,\n",
       "           0.3346,  0.3780,  0.3810,  0.5043,  0.4719,  0.4807,  0.5782,\n",
       "           0.6772,  0.6219,  0.6117,  0.6942,  0.8069,  0.6092,  0.7343,\n",
       "           0.7291,  0.7929]]])"
      ]
     },
     "execution_count": 219,
     "metadata": {},
     "output_type": "execute_result"
    }
   ],
   "source": [
    "batch"
   ]
  },
  {
   "cell_type": "code",
   "execution_count": null,
   "metadata": {},
   "outputs": [],
   "source": []
  },
  {
   "cell_type": "code",
   "execution_count": 98,
   "metadata": {},
   "outputs": [
    {
     "data": {
      "text/plain": [
       "tensor([[[ 0.0140,  0.0553,  0.0973,  ...,  0.1493, -0.0088, -0.0233],\n",
       "         [ 0.0553,  0.0973,  0.1416,  ..., -0.0088, -0.0233,  0.0540]],\n",
       "\n",
       "        [[ 0.0553,  0.0973,  0.1416,  ..., -0.0088, -0.0233,  0.0540],\n",
       "         [ 0.0973,  0.1416,  0.1809,  ..., -0.0233,  0.0540, -0.2180]],\n",
       "\n",
       "        [[ 0.0973,  0.1416,  0.1809,  ..., -0.0233,  0.0540, -0.2180],\n",
       "         [ 0.1416,  0.1809,  0.2060,  ...,  0.0540, -0.2180, -0.2411]],\n",
       "\n",
       "        ...,\n",
       "\n",
       "        [[ 0.1593,  0.1385,  0.0803,  ...,  0.6942,  0.8069,  0.6092],\n",
       "         [ 0.1385,  0.0803,  0.0763,  ...,  0.8069,  0.6092,  0.7343]],\n",
       "\n",
       "        [[ 0.1385,  0.0803,  0.0763,  ...,  0.8069,  0.6092,  0.7343],\n",
       "         [ 0.0803,  0.0763,  0.0629,  ...,  0.6092,  0.7343,  0.7291]],\n",
       "\n",
       "        [[ 0.0803,  0.0763,  0.0629,  ...,  0.6092,  0.7343,  0.7291],\n",
       "         [ 0.0763,  0.0629,  0.0375,  ...,  0.7343,  0.7291,  0.7929]]])"
      ]
     },
     "execution_count": 98,
     "metadata": {},
     "output_type": "execute_result"
    }
   ],
   "source": [
    "a1"
   ]
  },
  {
   "cell_type": "code",
   "execution_count": 99,
   "metadata": {},
   "outputs": [
    {
     "data": {
      "text/plain": [
       "tensor([[[ 0.0763,  0.0629,  0.0375,  ...,  0.7343,  0.7291,  0.7929],\n",
       "         [ 0.0629,  0.0375,  0.0281,  ...,  0.7291,  0.7929,  0.7805]],\n",
       "\n",
       "        [[ 0.0629,  0.0375,  0.0281,  ...,  0.7291,  0.7929,  0.7805],\n",
       "         [ 0.0375,  0.0281,  0.0276,  ...,  0.7929,  0.7805,  0.6979]],\n",
       "\n",
       "        [[ 0.0375,  0.0281,  0.0276,  ...,  0.7929,  0.7805,  0.6979],\n",
       "         [ 0.0281,  0.0276,  0.0045,  ...,  0.7805,  0.6979,  0.5889]],\n",
       "\n",
       "        ...,\n",
       "\n",
       "        [[ 0.5458,  0.5033,  0.5309,  ..., -0.5391, -0.4198, -0.4650],\n",
       "         [ 0.5033,  0.5309,  0.4319,  ..., -0.4198, -0.4650, -0.4187]],\n",
       "\n",
       "        [[ 0.5033,  0.5309,  0.4319,  ..., -0.4198, -0.4650, -0.4187],\n",
       "         [ 0.5309,  0.4319,  0.4594,  ..., -0.4650, -0.4187, -0.3799]],\n",
       "\n",
       "        [[ 0.5309,  0.4319,  0.4594,  ..., -0.4650, -0.4187, -0.3799],\n",
       "         [ 0.4319,  0.4594,  0.4238,  ..., -0.4187, -0.3799, -0.4007]]])"
      ]
     },
     "execution_count": 99,
     "metadata": {},
     "output_type": "execute_result"
    }
   ],
   "source": [
    "a2"
   ]
  },
  {
   "cell_type": "code",
   "execution_count": 210,
   "metadata": {},
   "outputs": [],
   "source": [
    "b = DataLoader(torch.FloatTensor([[[ 0.0140,  0.0553,  0.0973,  0.1493, -0.0088, -0.0233],\n",
    "        [ 0.0553,  0.0973,  0.1416, -0.0088, -0.0233,  0.0540]],\n",
    "        [[ 0.0553,  0.0973,  0.1416, -0.0088, -0.0233,  0.0540],\n",
    "        [ 0.0973,  0.1416,  0.1809, -0.0233,  0.0540, -0.2180]]]))"
   ]
  },
  {
   "cell_type": "code",
   "execution_count": 220,
   "metadata": {},
   "outputs": [],
   "source": [
    "for num, batch in enumerate(b):  # loop thru data\n",
    "    \n",
    "    if num == 0:\n",
    "        A = batch\n",
    "    else:\n",
    "        A = torch.cat([A, batch])"
   ]
  },
  {
   "cell_type": "markdown",
   "metadata": {},
   "source": [
    "#lets make a 6x6 matrix by append\n",
    "A = tf.concat([matrix2], 0) #Now A is a 2 x 6 tensor\n",
    "A = tf.concat([A, matrix1], 0) #Now A is a 4 x 6 tensor - append matrix1\n",
    "A = tf.concat([A, matrix1], 0) #Now A is a 6 x 6 tensor - append matrix1"
   ]
  },
  {
   "cell_type": "code",
   "execution_count": 214,
   "metadata": {},
   "outputs": [
    {
     "data": {
      "text/plain": [
       "{tensor([ 0.0553,  0.0973,  0.1416, -0.0088, -0.0233,  0.0540]): tensor([ 0.0973,  0.1416,  0.1809, -0.0233,  0.0540, -0.2180])}"
      ]
     },
     "execution_count": 214,
     "metadata": {},
     "output_type": "execute_result"
    }
   ],
   "source": [
    "batch"
   ]
  },
  {
   "cell_type": "code",
   "execution_count": 221,
   "metadata": {},
   "outputs": [
    {
     "data": {
      "text/plain": [
       "tensor([[[ 0.0140,  0.0553,  0.0973,  0.1493, -0.0088, -0.0233],\n",
       "         [ 0.0553,  0.0973,  0.1416, -0.0088, -0.0233,  0.0540]],\n",
       "\n",
       "        [[ 0.0553,  0.0973,  0.1416, -0.0088, -0.0233,  0.0540],\n",
       "         [ 0.0973,  0.1416,  0.1809, -0.0233,  0.0540, -0.2180]]])"
      ]
     },
     "execution_count": 221,
     "metadata": {},
     "output_type": "execute_result"
    }
   ],
   "source": [
    "A"
   ]
  },
  {
   "cell_type": "code",
   "execution_count": 11,
   "metadata": {},
   "outputs": [
    {
     "data": {
      "text/plain": [
       "3650"
      ]
     },
     "execution_count": 11,
     "metadata": {},
     "output_type": "execute_result"
    }
   ],
   "source": [
    "import pandas as pd\n",
    "series = pd.read_csv(r'C:\\Users\\82104\\Documents\\daily-min-temperatures.csv', header=0, index_col=0, parse_dates=True)\n",
    "len(series)"
   ]
  },
  {
   "cell_type": "code",
   "execution_count": 6,
   "metadata": {},
   "outputs": [
    {
     "data": {
      "text/plain": [
       "tensor([[-0.7454, -0.1944,  1.1159, -1.5265, -0.2321, -0.2974, -0.1924,  0.9021,\n",
       "          1.6684, -0.6377]])"
      ]
     },
     "execution_count": 6,
     "metadata": {},
     "output_type": "execute_result"
    }
   ],
   "source": [
    "import torch\n",
    "import torch.nn as nn\n",
    "\n",
    "# 입력 텐서의 크기가 10이고 출력 텐서의 크기가 20인 선형 변환을 수행하는 nn.Linear 모듈 생성\n",
    "linear = nn.Linear(10, 20)\n",
    "\n",
    "# 입력 텐서 생성 (크기가 10인 벡터)\n",
    "input_tensor = torch.randn(1, 10)\n",
    "input_tensor\n"
   ]
  },
  {
   "cell_type": "code",
   "execution_count": 8,
   "metadata": {},
   "outputs": [
    {
     "data": {
      "text/plain": [
       "tensor([[ 0.6153, -1.5472, -0.5036, -0.5673, -0.2460,  0.0492,  0.2819, -0.1660,\n",
       "         -0.1947,  0.0547, -0.3895, -0.0928,  1.2441, -0.5287,  0.0658,  0.1882,\n",
       "          0.5846, -0.5469, -0.2910,  0.0076]], grad_fn=<AddmmBackward0>)"
      ]
     },
     "execution_count": 8,
     "metadata": {},
     "output_type": "execute_result"
    }
   ],
   "source": [
    "\n",
    "# 선형 변환 수행 (입력 텐서를 출력 텐서로 변환)\n",
    "output_tensor = linear(input_tensor)\n",
    "output_tensor"
   ]
  },
  {
   "cell_type": "code",
   "execution_count": 9,
   "metadata": {},
   "outputs": [
    {
     "ename": "AttributeError",
     "evalue": "'float' object has no attribute 'item'",
     "output_type": "error",
     "traceback": [
      "\u001b[1;31m---------------------------------------------------------------------------\u001b[0m",
      "\u001b[1;31mAttributeError\u001b[0m                            Traceback (most recent call last)",
      "\u001b[1;32mc:\\Users\\82104\\Documents\\Mango_2\\adsfasf.ipynb 셀 44\u001b[0m in \u001b[0;36m<cell line: 2>\u001b[1;34m()\u001b[0m\n\u001b[0;32m      <a href='vscode-notebook-cell:/c%3A/Users/82104/Documents/Mango_2/adsfasf.ipynb#X61sZmlsZQ%3D%3D?line=0'>1</a>\u001b[0m val_loss \u001b[39m=\u001b[39m \u001b[39m1012310\u001b[39m\u001b[39m/\u001b[39m\u001b[39m10\u001b[39m\n\u001b[1;32m----> <a href='vscode-notebook-cell:/c%3A/Users/82104/Documents/Mango_2/adsfasf.ipynb#X61sZmlsZQ%3D%3D?line=1'>2</a>\u001b[0m val_loss\u001b[39m.\u001b[39;49mitem()\n",
      "\u001b[1;31mAttributeError\u001b[0m: 'float' object has no attribute 'item'"
     ]
    }
   ],
   "source": [
    "val_loss = 1012310/10\n",
    "val_loss.item()"
   ]
  },
  {
   "cell_type": "code",
   "execution_count": 14,
   "metadata": {},
   "outputs": [
    {
     "data": {
      "text/html": [
       "<div>\n",
       "<style scoped>\n",
       "    .dataframe tbody tr th:only-of-type {\n",
       "        vertical-align: middle;\n",
       "    }\n",
       "\n",
       "    .dataframe tbody tr th {\n",
       "        vertical-align: top;\n",
       "    }\n",
       "\n",
       "    .dataframe thead th {\n",
       "        text-align: right;\n",
       "    }\n",
       "</style>\n",
       "<table border=\"1\" class=\"dataframe\">\n",
       "  <thead>\n",
       "    <tr style=\"text-align: right;\">\n",
       "      <th></th>\n",
       "      <th>Temp</th>\n",
       "    </tr>\n",
       "    <tr>\n",
       "      <th>Date</th>\n",
       "      <th></th>\n",
       "    </tr>\n",
       "  </thead>\n",
       "  <tbody>\n",
       "    <tr>\n",
       "      <th>1981-01-10</th>\n",
       "      <td>20.0</td>\n",
       "    </tr>\n",
       "    <tr>\n",
       "      <th>1986-03-07</th>\n",
       "      <td>20.0</td>\n",
       "    </tr>\n",
       "    <tr>\n",
       "      <th>1990-02-22</th>\n",
       "      <td>20.0</td>\n",
       "    </tr>\n",
       "  </tbody>\n",
       "</table>\n",
       "</div>"
      ],
      "text/plain": [
       "            Temp\n",
       "Date            \n",
       "1981-01-10  20.0\n",
       "1986-03-07  20.0\n",
       "1990-02-22  20.0"
      ]
     },
     "execution_count": 14,
     "metadata": {},
     "output_type": "execute_result"
    }
   ],
   "source": [
    "df = df[df['TE'] == sfdfsdafsdafsd]"
   ]
  },
  {
   "cell_type": "code",
   "execution_count": 16,
   "metadata": {},
   "outputs": [
    {
     "data": {
      "text/plain": [
       "array([[17.9],\n",
       "       [18.8]])"
      ]
     },
     "execution_count": 16,
     "metadata": {},
     "output_type": "execute_result"
    }
   ],
   "source": [
    "series[1:3].values"
   ]
  },
  {
   "cell_type": "code",
   "execution_count": null,
   "metadata": {},
   "outputs": [],
   "source": []
  }
 ],
 "metadata": {
  "kernelspec": {
   "display_name": "flower_env",
   "language": "python",
   "name": "flower_env"
  },
  "language_info": {
   "codemirror_mode": {
    "name": "ipython",
    "version": 3
   },
   "file_extension": ".py",
   "mimetype": "text/x-python",
   "name": "python",
   "nbconvert_exporter": "python",
   "pygments_lexer": "ipython3",
   "version": "3.8.13"
  },
  "orig_nbformat": 4
 },
 "nbformat": 4,
 "nbformat_minor": 2
}
